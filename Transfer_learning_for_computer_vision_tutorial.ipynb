{
  "nbformat": 4,
  "nbformat_minor": 0,
  "metadata": {
    "colab": {
      "name": "Transfer learning for computer vision tutorial.ipynb",
      "provenance": [],
      "authorship_tag": "ABX9TyNCQ7VA7iFQfqNUS7I+RVXQ",
      "include_colab_link": true
    },
    "kernelspec": {
      "name": "python3",
      "display_name": "Python 3"
    },
    "language_info": {
      "name": "python"
    },
    "accelerator": "GPU",
    "widgets": {
      "application/vnd.jupyter.widget-state+json": {
        "8006e824b09344908dab1094aff82545": {
          "model_module": "@jupyter-widgets/controls",
          "model_name": "HBoxModel",
          "state": {
            "_view_name": "HBoxView",
            "_dom_classes": [],
            "_model_name": "HBoxModel",
            "_view_module": "@jupyter-widgets/controls",
            "_model_module_version": "1.5.0",
            "_view_count": null,
            "_view_module_version": "1.5.0",
            "box_style": "",
            "layout": "IPY_MODEL_466a9abc50914af699f7b9f22c971665",
            "_model_module": "@jupyter-widgets/controls",
            "children": [
              "IPY_MODEL_be83c97bf0254a8eb0f8a9a393a448ff",
              "IPY_MODEL_2bed1450f23f48ee89d3bc4deca8953c"
            ]
          }
        },
        "466a9abc50914af699f7b9f22c971665": {
          "model_module": "@jupyter-widgets/base",
          "model_name": "LayoutModel",
          "state": {
            "_view_name": "LayoutView",
            "grid_template_rows": null,
            "right": null,
            "justify_content": null,
            "_view_module": "@jupyter-widgets/base",
            "overflow": null,
            "_model_module_version": "1.2.0",
            "_view_count": null,
            "flex_flow": null,
            "width": null,
            "min_width": null,
            "border": null,
            "align_items": null,
            "bottom": null,
            "_model_module": "@jupyter-widgets/base",
            "top": null,
            "grid_column": null,
            "overflow_y": null,
            "overflow_x": null,
            "grid_auto_flow": null,
            "grid_area": null,
            "grid_template_columns": null,
            "flex": null,
            "_model_name": "LayoutModel",
            "justify_items": null,
            "grid_row": null,
            "max_height": null,
            "align_content": null,
            "visibility": null,
            "align_self": null,
            "height": null,
            "min_height": null,
            "padding": null,
            "grid_auto_rows": null,
            "grid_gap": null,
            "max_width": null,
            "order": null,
            "_view_module_version": "1.2.0",
            "grid_template_areas": null,
            "object_position": null,
            "object_fit": null,
            "grid_auto_columns": null,
            "margin": null,
            "display": null,
            "left": null
          }
        },
        "be83c97bf0254a8eb0f8a9a393a448ff": {
          "model_module": "@jupyter-widgets/controls",
          "model_name": "FloatProgressModel",
          "state": {
            "_view_name": "ProgressView",
            "style": "IPY_MODEL_8e204b448055426f8a79456fc348e8ec",
            "_dom_classes": [],
            "description": "100%",
            "_model_name": "FloatProgressModel",
            "bar_style": "success",
            "max": 46830571,
            "_view_module": "@jupyter-widgets/controls",
            "_model_module_version": "1.5.0",
            "value": 46830571,
            "_view_count": null,
            "_view_module_version": "1.5.0",
            "orientation": "horizontal",
            "min": 0,
            "description_tooltip": null,
            "_model_module": "@jupyter-widgets/controls",
            "layout": "IPY_MODEL_c9b850a2a50f4eff9678f35c60cf6292"
          }
        },
        "2bed1450f23f48ee89d3bc4deca8953c": {
          "model_module": "@jupyter-widgets/controls",
          "model_name": "HTMLModel",
          "state": {
            "_view_name": "HTMLView",
            "style": "IPY_MODEL_eb7d77be8be346739ea9eb7dab9f97df",
            "_dom_classes": [],
            "description": "",
            "_model_name": "HTMLModel",
            "placeholder": "​",
            "_view_module": "@jupyter-widgets/controls",
            "_model_module_version": "1.5.0",
            "value": " 44.7M/44.7M [03:14&lt;00:00, 241kB/s]",
            "_view_count": null,
            "_view_module_version": "1.5.0",
            "description_tooltip": null,
            "_model_module": "@jupyter-widgets/controls",
            "layout": "IPY_MODEL_ec78b8f1af2d4374bd9639532da1ec3b"
          }
        },
        "8e204b448055426f8a79456fc348e8ec": {
          "model_module": "@jupyter-widgets/controls",
          "model_name": "ProgressStyleModel",
          "state": {
            "_view_name": "StyleView",
            "_model_name": "ProgressStyleModel",
            "description_width": "initial",
            "_view_module": "@jupyter-widgets/base",
            "_model_module_version": "1.5.0",
            "_view_count": null,
            "_view_module_version": "1.2.0",
            "bar_color": null,
            "_model_module": "@jupyter-widgets/controls"
          }
        },
        "c9b850a2a50f4eff9678f35c60cf6292": {
          "model_module": "@jupyter-widgets/base",
          "model_name": "LayoutModel",
          "state": {
            "_view_name": "LayoutView",
            "grid_template_rows": null,
            "right": null,
            "justify_content": null,
            "_view_module": "@jupyter-widgets/base",
            "overflow": null,
            "_model_module_version": "1.2.0",
            "_view_count": null,
            "flex_flow": null,
            "width": null,
            "min_width": null,
            "border": null,
            "align_items": null,
            "bottom": null,
            "_model_module": "@jupyter-widgets/base",
            "top": null,
            "grid_column": null,
            "overflow_y": null,
            "overflow_x": null,
            "grid_auto_flow": null,
            "grid_area": null,
            "grid_template_columns": null,
            "flex": null,
            "_model_name": "LayoutModel",
            "justify_items": null,
            "grid_row": null,
            "max_height": null,
            "align_content": null,
            "visibility": null,
            "align_self": null,
            "height": null,
            "min_height": null,
            "padding": null,
            "grid_auto_rows": null,
            "grid_gap": null,
            "max_width": null,
            "order": null,
            "_view_module_version": "1.2.0",
            "grid_template_areas": null,
            "object_position": null,
            "object_fit": null,
            "grid_auto_columns": null,
            "margin": null,
            "display": null,
            "left": null
          }
        },
        "eb7d77be8be346739ea9eb7dab9f97df": {
          "model_module": "@jupyter-widgets/controls",
          "model_name": "DescriptionStyleModel",
          "state": {
            "_view_name": "StyleView",
            "_model_name": "DescriptionStyleModel",
            "description_width": "",
            "_view_module": "@jupyter-widgets/base",
            "_model_module_version": "1.5.0",
            "_view_count": null,
            "_view_module_version": "1.2.0",
            "_model_module": "@jupyter-widgets/controls"
          }
        },
        "ec78b8f1af2d4374bd9639532da1ec3b": {
          "model_module": "@jupyter-widgets/base",
          "model_name": "LayoutModel",
          "state": {
            "_view_name": "LayoutView",
            "grid_template_rows": null,
            "right": null,
            "justify_content": null,
            "_view_module": "@jupyter-widgets/base",
            "overflow": null,
            "_model_module_version": "1.2.0",
            "_view_count": null,
            "flex_flow": null,
            "width": null,
            "min_width": null,
            "border": null,
            "align_items": null,
            "bottom": null,
            "_model_module": "@jupyter-widgets/base",
            "top": null,
            "grid_column": null,
            "overflow_y": null,
            "overflow_x": null,
            "grid_auto_flow": null,
            "grid_area": null,
            "grid_template_columns": null,
            "flex": null,
            "_model_name": "LayoutModel",
            "justify_items": null,
            "grid_row": null,
            "max_height": null,
            "align_content": null,
            "visibility": null,
            "align_self": null,
            "height": null,
            "min_height": null,
            "padding": null,
            "grid_auto_rows": null,
            "grid_gap": null,
            "max_width": null,
            "order": null,
            "_view_module_version": "1.2.0",
            "grid_template_areas": null,
            "object_position": null,
            "object_fit": null,
            "grid_auto_columns": null,
            "margin": null,
            "display": null,
            "left": null
          }
        }
      }
    }
  },
  "cells": [
    {
      "cell_type": "markdown",
      "metadata": {
        "id": "view-in-github",
        "colab_type": "text"
      },
      "source": [
        "<a href=\"https://colab.research.google.com/github/Gangneng/pytorch_tutorial/blob/main/Transfer_learning_for_computer_vision_tutorial.ipynb\" target=\"_parent\"><img src=\"https://colab.research.google.com/assets/colab-badge.svg\" alt=\"Open In Colab\"/></a>"
      ]
    },
    {
      "cell_type": "code",
      "metadata": {
        "colab": {
          "base_uri": "https://localhost:8080/"
        },
        "id": "PcbYaLA9V6zQ",
        "outputId": "c449e2a8-9a0a-4329-e64d-eeceee24668d"
      },
      "source": [
        "from google.colab import drive\n",
        "#drive.mount('/content/drive')\n",
        "\n",
        "%cd drive/MyDrive/KDT/파이토치_튜토리얼"
      ],
      "execution_count": 7,
      "outputs": [
        {
          "output_type": "stream",
          "text": [
            "/content/drive/MyDrive/KDT/파이토치_튜토리얼\n"
          ],
          "name": "stdout"
        }
      ]
    },
    {
      "cell_type": "markdown",
      "metadata": {
        "id": "InUhLG-cVXYR"
      },
      "source": [
        "CNN을 사용하여 이미지 분류 학습을 해보도록 하자."
      ]
    },
    {
      "cell_type": "code",
      "metadata": {
        "id": "XCP8LQkhVLIO"
      },
      "source": [
        "from __future__ import print_function, division\n",
        "\n",
        "import torch\n",
        "import torch.nn as nn\n",
        "import torch.optim as optim\n",
        "from torch.optim import lr_scheduler\n",
        "import numpy as np\n",
        "import torchvision\n",
        "from torchvision import datasets, models, transforms\n",
        "import matplotlib.pyplot as plt\n",
        "import time\n",
        "import os\n",
        "import copy\n",
        "\n",
        "plt.ion()"
      ],
      "execution_count": 8,
      "outputs": []
    },
    {
      "cell_type": "markdown",
      "metadata": {
        "id": "d_MWDmc8Vilg"
      },
      "source": [
        "우리는 벌과 개미를 분류해보도록 할 것이다."
      ]
    },
    {
      "cell_type": "code",
      "metadata": {
        "colab": {
          "base_uri": "https://localhost:8080/"
        },
        "id": "NXCAfgdKVfVp",
        "outputId": "e1657437-40ae-40bc-bee9-0ff1d38a185f"
      },
      "source": [
        "data_transforms = {\n",
        "    'train': transforms.Compose([\n",
        "        transforms.RandomResizedCrop(224),\n",
        "        transforms.RandomHorizontalFlip(),\n",
        "        transforms.ToTensor(),\n",
        "        transforms.Normalize([0.485, 0.456, 0.406], [0.229, 0.224, 0.225])\n",
        "    ]),\n",
        "    'val': transforms.Compose([\n",
        "        transforms.Resize(256),\n",
        "        transforms.CenterCrop(224),\n",
        "        transforms.ToTensor(),\n",
        "        transforms.Normalize([0.485, 0.456, 0.406], [0.229, 0.224, 0.225])\n",
        "    ]),\n",
        "}\n",
        "\n",
        "data_dir = 'data/hymenoptera_data'\n",
        "image_datasets = {x: datasets.ImageFolder(os.path.join(data_dir, x),\n",
        "                                          data_transforms[x])\n",
        "                  for x in ['train', 'val']}\n",
        "dataloaders = {x: torch.utils.data.DataLoader(image_datasets[x], batch_size=4,\n",
        "                                             shuffle=True, num_workers=4)\n",
        "              for x in ['train', 'val']}\n",
        "dataset_sizes = {x: len(image_datasets[x]) for x in ['train', 'val']}\n",
        "class_names = image_datasets['train'].classes\n",
        "\n",
        "device = torch.device(\"cuda:0\" if torch.cuda.is_available() else \"cpu\")"
      ],
      "execution_count": 9,
      "outputs": [
        {
          "output_type": "stream",
          "text": [
            "/usr/local/lib/python3.7/dist-packages/torch/utils/data/dataloader.py:481: UserWarning: This DataLoader will create 4 worker processes in total. Our suggested max number of worker in current system is 2, which is smaller than what this DataLoader is going to create. Please be aware that excessive worker creation might get DataLoader running slow or even freeze, lower the worker number to avoid potential slowness/freeze if necessary.\n",
            "  cpuset_checked))\n"
          ],
          "name": "stderr"
        }
      ]
    },
    {
      "cell_type": "markdown",
      "metadata": {
        "id": "gLQel54-W9Z4"
      },
      "source": [
        "몇 개의 사진을 시각화하여 보자."
      ]
    },
    {
      "cell_type": "code",
      "metadata": {
        "colab": {
          "base_uri": "https://localhost:8080/",
          "height": 204
        },
        "id": "nSaHLj70VosZ",
        "outputId": "c1798862-c531-4607-9115-0ab4bde6c275"
      },
      "source": [
        "def imshow(inp, title=None):\n",
        "    \"\"\"Imshow for Tensor.\"\"\"\n",
        "    inp = inp.numpy().transpose((1, 2, 0))\n",
        "    mean = np.array([0.485, 0.456, 0.406])\n",
        "    std = np.array([0.229, 0.224, 0.225])\n",
        "    inp = std * inp + mean\n",
        "    inp = np.clip(inp, 0, 1)\n",
        "    plt.imshow(inp)\n",
        "    if title is not None:\n",
        "        plt.title(title)\n",
        "    plt.pause(0.001)  # pause a bit so that plots are updated\n",
        "\n",
        "\n",
        "# Get a batch of training data\n",
        "inputs, classes = next(iter(dataloaders['train']))\n",
        "\n",
        "# Make a grid from batch\n",
        "out = torchvision.utils.make_grid(inputs)\n",
        "\n",
        "imshow(out, title=[class_names[x] for x in classes])"
      ],
      "execution_count": 10,
      "outputs": [
        {
          "output_type": "stream",
          "text": [
            "/usr/local/lib/python3.7/dist-packages/torch/utils/data/dataloader.py:481: UserWarning: This DataLoader will create 4 worker processes in total. Our suggested max number of worker in current system is 2, which is smaller than what this DataLoader is going to create. Please be aware that excessive worker creation might get DataLoader running slow or even freeze, lower the worker number to avoid potential slowness/freeze if necessary.\n",
            "  cpuset_checked))\n"
          ],
          "name": "stderr"
        },
        {
          "output_type": "display_data",
          "data": {
            "image/png": "[encoded data removed]",
            "text/plain": [
              "<Figure size 432x288 with 1 Axes>"
            ]
          },
          "metadata": {
            "tags": [],
            "needs_background": "light"
          }
        }
      ]
    },
    {
      "cell_type": "markdown",
      "metadata": {
        "id": "Avy0-1NuXCFw"
      },
      "source": [
        "모델을 훈련시키는 함수"
      ]
    },
    {
      "cell_type": "code",
      "metadata": {
        "id": "Dt5xgZdEW_Wt"
      },
      "source": [
        "def train_model(model, criterion, optimizer, scheduler, num_epochs=25):\n",
        "    since = time.time()\n",
        "\n",
        "    best_model_wts = copy.deepcopy(model.state_dict()) #state_dict()는 모델의 하이퍼 파라미터 정보가 포함되어 있는 사전 객체이다.\n",
        "    best_acc = 0.0\n",
        "\n",
        "    for epoch in range(num_epochs):\n",
        "        print('Epoch {}/{}'.format(epoch, num_epochs - 1))\n",
        "        print('-' * 10)\n",
        "\n",
        "        # Each epoch has a training and validation phase\n",
        "        for phase in ['train', 'val']:\n",
        "            if phase == 'train':\n",
        "                model.train()  # Set model to training mode\n",
        "            else:\n",
        "                model.eval()   # Set model to evaluate mode\n",
        "\n",
        "            running_loss = 0.0\n",
        "            running_corrects = 0\n",
        "\n",
        "            # Iterate over data.\n",
        "            for inputs, labels in dataloaders[phase]:\n",
        "                inputs = inputs.to(device)\n",
        "                labels = labels.to(device)\n",
        "\n",
        "                # zero the parameter gradients\n",
        "                optimizer.zero_grad()\n",
        "\n",
        "                # forward\n",
        "                # track history if only in train\n",
        "                with torch.set_grad_enabled(phase == 'train'):\n",
        "                    outputs = model(inputs)\n",
        "                    _, preds = torch.max(outputs, 1)\n",
        "                    loss = criterion(outputs, labels)\n",
        "\n",
        "                    # backward + optimize only if in training phase\n",
        "                    if phase == 'train':\n",
        "                        loss.backward()\n",
        "                        optimizer.step()\n",
        "\n",
        "                # statistics\n",
        "                running_loss += loss.item() * inputs.size(0)\n",
        "                running_corrects += torch.sum(preds == labels.data)\n",
        "            if phase == 'train':\n",
        "                scheduler.step()\n",
        "\n",
        "            epoch_loss = running_loss / dataset_sizes[phase]\n",
        "            epoch_acc = running_corrects.double() / dataset_sizes[phase]\n",
        "\n",
        "            print('{} Loss: {:.4f} Acc: {:.4f}'.format(\n",
        "                phase, epoch_loss, epoch_acc))\n",
        "\n",
        "            # deep copy the model\n",
        "            if phase == 'val' and epoch_acc > best_acc:\n",
        "                best_acc = epoch_acc\n",
        "                best_model_wts = copy.deepcopy(model.state_dict())\n",
        "\n",
        "        print()\n",
        "\n",
        "    time_elapsed = time.time() - since\n",
        "    print('Training complete in {:.0f}m {:.0f}s'.format(\n",
        "        time_elapsed // 60, time_elapsed % 60))\n",
        "    print('Best val Acc: {:4f}'.format(best_acc))\n",
        "\n",
        "    # load best model weights\n",
        "    model.load_state_dict(best_model_wts)\n",
        "    return model"
      ],
      "execution_count": 11,
      "outputs": []
    },
    {
      "cell_type": "markdown",
      "metadata": {
        "id": "Y0aJGtcjXmkg"
      },
      "source": [
        "훈련시킨 모델의 결과를 시각화하는 함수"
      ]
    },
    {
      "cell_type": "code",
      "metadata": {
        "id": "RytpTlVuXj-P"
      },
      "source": [
        "def visualize_model(model, num_images=6):\n",
        "    was_training = model.training\n",
        "    model.eval()\n",
        "    images_so_far = 0\n",
        "    fig = plt.figure()\n",
        "\n",
        "    with torch.no_grad():\n",
        "        for i, (inputs, labels) in enumerate(dataloaders['val']):\n",
        "            inputs = inputs.to(device)\n",
        "            labels = labels.to(device)\n",
        "\n",
        "            outputs = model(inputs)\n",
        "            _, preds = torch.max(outputs, 1)\n",
        "\n",
        "            for j in range(inputs.size()[0]):\n",
        "                images_so_far += 1\n",
        "                ax = plt.subplot(num_images//2, 2, images_so_far)\n",
        "                ax.axis('off')\n",
        "                ax.set_title('predicted: {}'.format(class_names[preds[j]]))\n",
        "                imshow(inputs.cpu().data[j])\n",
        "\n",
        "                if images_so_far == num_images:\n",
        "                    model.train(mode=was_training)\n",
        "                    return\n",
        "        model.train(mode=was_training)"
      ],
      "execution_count": 12,
      "outputs": []
    },
    {
      "cell_type": "markdown",
      "metadata": {
        "id": "O8nv9oykXuXO"
      },
      "source": [
        "미리 훈련된 모델을 불러오고 Fully Conneted Layer를 재설정한다."
      ]
    },
    {
      "cell_type": "code",
      "metadata": {
        "colab": {
          "base_uri": "https://localhost:8080/",
          "height": 85,
          "referenced_widgets": [
            "8006e824b09344908dab1094aff82545",
            "466a9abc50914af699f7b9f22c971665",
            "be83c97bf0254a8eb0f8a9a393a448ff",
            "2bed1450f23f48ee89d3bc4deca8953c",
            "8e204b448055426f8a79456fc348e8ec",
            "c9b850a2a50f4eff9678f35c60cf6292",
            "eb7d77be8be346739ea9eb7dab9f97df",
            "ec78b8f1af2d4374bd9639532da1ec3b"
          ]
        },
        "id": "Rjkevt8PXpcu",
        "outputId": "7c2d4c32-0903-4e2c-d2f7-7fa49baa5742"
      },
      "source": [
        "model_ft = models.resnet18(pretrained=True)\n",
        "num_ftrs = model_ft.fc.in_features\n",
        "# Here the size of each output sample is set to 2.\n",
        "# Alternatively, it can be generalized to nn.Linear(num_ftrs, len(class_names)).\n",
        "model_ft.fc = nn.Linear(num_ftrs, 2)\n",
        "\n",
        "model_ft = model_ft.to(device)\n",
        "\n",
        "criterion = nn.CrossEntropyLoss()\n",
        "\n",
        "# Observe that all parameters are being optimized\n",
        "optimizer_ft = optim.SGD(model_ft.parameters(), lr=0.001, momentum=0.9)\n",
        "\n",
        "# Decay LR by a factor of 0.1 every 7 epochs\n",
        "exp_lr_scheduler = lr_scheduler.StepLR(optimizer_ft, step_size=7, gamma=0.1)"
      ],
      "execution_count": 13,
      "outputs": [
        {
          "output_type": "stream",
          "text": [
            "Downloading: \"https://download.pytorch.org/models/resnet18-f37072fd.pth\" to /root/.cache/torch/hub/checkpoints/resnet18-f37072fd.pth\n"
          ],
          "name": "stderr"
        },
        {
          "output_type": "display_data",
          "data": {
            "application/vnd.jupyter.widget-view+json": {
              "model_id": "8006e824b09344908dab1094aff82545",
              "version_minor": 0,
              "version_major": 2
            },
            "text/plain": [
              "HBox(children=(FloatProgress(value=0.0, max=46830571.0), HTML(value='')))"
            ]
          },
          "metadata": {
            "tags": []
          }
        },
        {
          "output_type": "stream",
          "text": [
            "\n"
          ],
          "name": "stdout"
        }
      ]
    },
    {
      "cell_type": "markdown",
      "metadata": {
        "id": "WhIXZ4GVX-qW"
      },
      "source": [
        "위에 작성한 함수를 활용하여 모델을 훈련 및 평가하여보자."
      ]
    },
    {
      "cell_type": "code",
      "metadata": {
        "colab": {
          "base_uri": "https://localhost:8080/"
        },
        "id": "UuglQ3myX3ze",
        "outputId": "ea4aa429-c049-470e-e3df-2a538a316b76"
      },
      "source": [
        "model_ft = train_model(model_ft, criterion, optimizer_ft, exp_lr_scheduler,\n",
        "                       num_epochs=25)"
      ],
      "execution_count": 14,
      "outputs": [
        {
          "output_type": "stream",
          "text": [
            "Epoch 0/24\n",
            "----------\n"
          ],
          "name": "stdout"
        },
        {
          "output_type": "stream",
          "text": [
            "/usr/local/lib/python3.7/dist-packages/torch/utils/data/dataloader.py:481: UserWarning: This DataLoader will create 4 worker processes in total. Our suggested max number of worker in current system is 2, which is smaller than what this DataLoader is going to create. Please be aware that excessive worker creation might get DataLoader running slow or even freeze, lower the worker number to avoid potential slowness/freeze if necessary.\n",
            "  cpuset_checked))\n",
            "/usr/local/lib/python3.7/dist-packages/torch/nn/functional.py:718: UserWarning: Named tensors and all their associated APIs are an experimental feature and subject to change. Please do not use them for anything important until they are released as stable. (Triggered internally at  /pytorch/c10/core/TensorImpl.h:1156.)\n",
            "  return torch.max_pool2d(input, kernel_size, stride, padding, dilation, ceil_mode)\n"
          ],
          "name": "stderr"
        },
        {
          "output_type": "stream",
          "text": [
            "train Loss: 0.6091 Acc: 0.6967\n",
            "val Loss: 0.2894 Acc: 0.8954\n",
            "\n",
            "Epoch 1/24\n",
            "----------\n",
            "train Loss: 0.6620 Acc: 0.7582\n",
            "val Loss: 0.3079 Acc: 0.8758\n",
            "\n",
            "Epoch 2/24\n",
            "----------\n",
            "train Loss: 0.5332 Acc: 0.7910\n",
            "val Loss: 0.4225 Acc: 0.8235\n",
            "\n",
            "Epoch 3/24\n",
            "----------\n",
            "train Loss: 0.5893 Acc: 0.8115\n",
            "val Loss: 0.4120 Acc: 0.8366\n",
            "\n",
            "Epoch 4/24\n",
            "----------\n",
            "train Loss: 0.4481 Acc: 0.8238\n",
            "val Loss: 0.3516 Acc: 0.8562\n",
            "\n",
            "Epoch 5/24\n",
            "----------\n",
            "train Loss: 0.3605 Acc: 0.8730\n",
            "val Loss: 0.1705 Acc: 0.9346\n",
            "\n",
            "Epoch 6/24\n",
            "----------\n",
            "train Loss: 0.4363 Acc: 0.8197\n",
            "val Loss: 0.2247 Acc: 0.9020\n",
            "\n",
            "Epoch 7/24\n",
            "----------\n",
            "train Loss: 0.3211 Acc: 0.8361\n",
            "val Loss: 0.1847 Acc: 0.9150\n",
            "\n",
            "Epoch 8/24\n",
            "----------\n",
            "train Loss: 0.2555 Acc: 0.8893\n",
            "val Loss: 0.1800 Acc: 0.9085\n",
            "\n",
            "Epoch 9/24\n",
            "----------\n",
            "train Loss: 0.2918 Acc: 0.8811\n",
            "val Loss: 0.1749 Acc: 0.9346\n",
            "\n",
            "Epoch 10/24\n",
            "----------\n",
            "train Loss: 0.3778 Acc: 0.8402\n",
            "val Loss: 0.1880 Acc: 0.9020\n",
            "\n",
            "Epoch 11/24\n",
            "----------\n",
            "train Loss: 0.3377 Acc: 0.8648\n",
            "val Loss: 0.1833 Acc: 0.9346\n",
            "\n",
            "Epoch 12/24\n",
            "----------\n",
            "train Loss: 0.3360 Acc: 0.8279\n",
            "val Loss: 0.2106 Acc: 0.9216\n",
            "\n",
            "Epoch 13/24\n",
            "----------\n",
            "train Loss: 0.2808 Acc: 0.8689\n",
            "val Loss: 0.1592 Acc: 0.9412\n",
            "\n",
            "Epoch 14/24\n",
            "----------\n",
            "train Loss: 0.2690 Acc: 0.8975\n",
            "val Loss: 0.1604 Acc: 0.9281\n",
            "\n",
            "Epoch 15/24\n",
            "----------\n",
            "train Loss: 0.3794 Acc: 0.8361\n",
            "val Loss: 0.1685 Acc: 0.9281\n",
            "\n",
            "Epoch 16/24\n",
            "----------\n",
            "train Loss: 0.3785 Acc: 0.8525\n",
            "val Loss: 0.1696 Acc: 0.9281\n",
            "\n",
            "Epoch 17/24\n",
            "----------\n",
            "train Loss: 0.3047 Acc: 0.8811\n",
            "val Loss: 0.1805 Acc: 0.9281\n",
            "\n",
            "Epoch 18/24\n",
            "----------\n",
            "train Loss: 0.2561 Acc: 0.8893\n",
            "val Loss: 0.1693 Acc: 0.9346\n",
            "\n",
            "Epoch 19/24\n",
            "----------\n",
            "train Loss: 0.2568 Acc: 0.8934\n",
            "val Loss: 0.1701 Acc: 0.9281\n",
            "\n",
            "Epoch 20/24\n",
            "----------\n",
            "train Loss: 0.2372 Acc: 0.9057\n",
            "val Loss: 0.1680 Acc: 0.9281\n",
            "\n",
            "Epoch 21/24\n",
            "----------\n",
            "train Loss: 0.2942 Acc: 0.8607\n",
            "val Loss: 0.1656 Acc: 0.9281\n",
            "\n",
            "Epoch 22/24\n",
            "----------\n",
            "train Loss: 0.2902 Acc: 0.8770\n",
            "val Loss: 0.1585 Acc: 0.9346\n",
            "\n",
            "Epoch 23/24\n",
            "----------\n",
            "train Loss: 0.2385 Acc: 0.8975\n",
            "val Loss: 0.1575 Acc: 0.9412\n",
            "\n",
            "Epoch 24/24\n",
            "----------\n",
            "train Loss: 0.3084 Acc: 0.8648\n",
            "val Loss: 0.1633 Acc: 0.9216\n",
            "\n",
            "Training complete in 3m 16s\n",
            "Best val Acc: 0.941176\n"
          ],
          "name": "stdout"
        }
      ]
    },
    {
      "cell_type": "code",
      "metadata": {
        "colab": {
          "base_uri": "https://localhost:8080/",
          "height": 637
        },
        "id": "DRAOFtnoYCgL",
        "outputId": "2373dfd5-8e88-4195-e5d7-7677f33e8f34"
      },
      "source": [
        "visualize_model(model_ft)"
      ],
      "execution_count": 15,
      "outputs": [
        {
          "output_type": "stream",
          "text": [
            "/usr/local/lib/python3.7/dist-packages/torch/utils/data/dataloader.py:481: UserWarning: This DataLoader will create 4 worker processes in total. Our suggested max number of worker in current system is 2, which is smaller than what this DataLoader is going to create. Please be aware that excessive worker creation might get DataLoader running slow or even freeze, lower the worker number to avoid potential slowness/freeze if necessary.\n",
            "  cpuset_checked))\n"
          ],
          "name": "stderr"
        },
        {
          "output_type": "display_data",
          "data": {
            "image/png": "[encoded data removed]",
            "text/plain": [
              "<Figure size 432x288 with 1 Axes>"
            ]
          },
          "metadata": {
            "tags": [],
            "needs_background": "light"
          }
        },
        {
          "output_type": "display_data",
          "data": {
            "image/png": "[encoded data removed]",
            "text/plain": [
              "<Figure size 432x288 with 1 Axes>"
            ]
          },
          "metadata": {
            "tags": [],
            "needs_background": "light"
          }
        },
        {
          "output_type": "display_data",
          "data": {
            "image/png": "[encoded data removed]",
            "text/plain": [
              "<Figure size 432x288 with 1 Axes>"
            ]
          },
          "metadata": {
            "tags": [],
            "needs_background": "light"
          }
        },
        {
          "output_type": "display_data",
          "data": {
            "image/png": "[encoded data removed]",
            "text/plain": [
              "<Figure size 432x288 with 1 Axes>"
            ]
          },
          "metadata": {
            "tags": [],
            "needs_background": "light"
          }
        },
        {
          "output_type": "display_data",
          "data": {
            "image/png": "[encoded data removed]",
            "text/plain": [
              "<Figure size 432x288 with 1 Axes>"
            ]
          },
          "metadata": {
            "tags": [],
            "needs_background": "light"
          }
        },
        {
          "output_type": "display_data",
          "data": {
            "image/png": "[encoded data removed]",
            "text/plain": [
              "<Figure size 432x288 with 1 Axes>"
            ]
          },
          "metadata": {
            "tags": [],
            "needs_background": "light"
          }
        }
      ]
    },
    {
      "cell_type": "markdown",
      "metadata": {
        "id": "J35QYM4nYP2e"
      },
      "source": [
        "역전파 계산을 하지 않도록 하여 최종 레이어를 제외한 모든 네트워크를 동결시키자."
      ]
    },
    {
      "cell_type": "code",
      "metadata": {
        "id": "3SCsqBvHYFP2"
      },
      "source": [
        "model_conv = torchvision.models.resnet18(pretrained=True)\n",
        "for param in model_conv.parameters():\n",
        "    param.requires_grad = False\n",
        "\n",
        "# Parameters of newly constructed modules have requires_grad=True by default\n",
        "num_ftrs = model_conv.fc.in_features\n",
        "model_conv.fc = nn.Linear(num_ftrs, 2)\n",
        "\n",
        "model_conv = model_conv.to(device)\n",
        "\n",
        "criterion = nn.CrossEntropyLoss()\n",
        "\n",
        "# Observe that only parameters of final layer are being optimized as\n",
        "# opposed to before.\n",
        "optimizer_conv = optim.SGD(model_conv.fc.parameters(), lr=0.001, momentum=0.9)\n",
        "\n",
        "# Decay LR by a factor of 0.1 every 7 epochs\n",
        "exp_lr_scheduler = lr_scheduler.StepLR(optimizer_conv, step_size=7, gamma=0.1)"
      ],
      "execution_count": 16,
      "outputs": []
    },
    {
      "cell_type": "code",
      "metadata": {
        "colab": {
          "base_uri": "https://localhost:8080/"
        },
        "id": "als_lxt1YdKY",
        "outputId": "e57ea73e-d18e-4b4b-bbda-fa90fd79978f"
      },
      "source": [
        "model_conv = train_model(model_conv, criterion, optimizer_conv,\n",
        "                         exp_lr_scheduler, num_epochs=25)"
      ],
      "execution_count": null,
      "outputs": [
        {
          "output_type": "stream",
          "text": [
            "Epoch 0/24\n",
            "----------\n"
          ],
          "name": "stdout"
        },
        {
          "output_type": "stream",
          "text": [
            "/usr/local/lib/python3.7/dist-packages/torch/utils/data/dataloader.py:481: UserWarning: This DataLoader will create 4 worker processes in total. Our suggested max number of worker in current system is 2, which is smaller than what this DataLoader is going to create. Please be aware that excessive worker creation might get DataLoader running slow or even freeze, lower the worker number to avoid potential slowness/freeze if necessary.\n",
            "  cpuset_checked))\n"
          ],
          "name": "stderr"
        },
        {
          "output_type": "stream",
          "text": [
            "train Loss: 0.7351 Acc: 0.6230\n",
            "val Loss: 0.4094 Acc: 0.8301\n",
            "\n",
            "Epoch 1/24\n",
            "----------\n",
            "train Loss: 0.5618 Acc: 0.7541\n",
            "val Loss: 0.5463 Acc: 0.7451\n",
            "\n",
            "Epoch 2/24\n",
            "----------\n",
            "train Loss: 0.4717 Acc: 0.7992\n",
            "val Loss: 0.2147 Acc: 0.9412\n",
            "\n",
            "Epoch 3/24\n",
            "----------\n",
            "train Loss: 0.4752 Acc: 0.7664\n",
            "val Loss: 0.4397 Acc: 0.8366\n",
            "\n",
            "Epoch 4/24\n",
            "----------\n",
            "train Loss: 0.5175 Acc: 0.7910\n",
            "val Loss: 0.1800 Acc: 0.9673\n",
            "\n",
            "Epoch 5/24\n",
            "----------\n",
            "train Loss: 0.3603 Acc: 0.8607\n",
            "val Loss: 0.3048 Acc: 0.9020\n",
            "\n",
            "Epoch 6/24\n",
            "----------\n",
            "train Loss: 0.7282 Acc: 0.7500\n",
            "val Loss: 0.2328 Acc: 0.9412\n",
            "\n",
            "Epoch 7/24\n",
            "----------\n",
            "train Loss: 0.2977 Acc: 0.8811\n",
            "val Loss: 0.1867 Acc: 0.9542\n",
            "\n",
            "Epoch 8/24\n",
            "----------\n",
            "train Loss: 0.3905 Acc: 0.8033\n",
            "val Loss: 0.1823 Acc: 0.9542\n",
            "\n",
            "Epoch 9/24\n",
            "----------\n",
            "train Loss: 0.2968 Acc: 0.8566\n",
            "val Loss: 0.1776 Acc: 0.9542\n",
            "\n",
            "Epoch 10/24\n",
            "----------\n",
            "train Loss: 0.3283 Acc: 0.8852\n",
            "val Loss: 0.1782 Acc: 0.9608\n",
            "\n",
            "Epoch 11/24\n",
            "----------\n",
            "train Loss: 0.4569 Acc: 0.8115\n",
            "val Loss: 0.1711 Acc: 0.9542\n",
            "\n",
            "Epoch 12/24\n",
            "----------\n",
            "train Loss: 0.3401 Acc: 0.8525\n",
            "val Loss: 0.1734 Acc: 0.9477\n",
            "\n",
            "Epoch 13/24\n",
            "----------\n",
            "train Loss: 0.3393 Acc: 0.8484\n",
            "val Loss: 0.1806 Acc: 0.9608\n",
            "\n",
            "Epoch 14/24\n",
            "----------\n",
            "train Loss: 0.4637 Acc: 0.7869\n",
            "val Loss: 0.2027 Acc: 0.9281\n",
            "\n",
            "Epoch 15/24\n",
            "----------\n",
            "train Loss: 0.3451 Acc: 0.8320\n",
            "val Loss: 0.2123 Acc: 0.9216\n",
            "\n",
            "Epoch 16/24\n",
            "----------\n",
            "train Loss: 0.3135 Acc: 0.8811\n",
            "val Loss: 0.2182 Acc: 0.9281\n",
            "\n",
            "Epoch 17/24\n",
            "----------\n",
            "train Loss: 0.3407 Acc: 0.8525\n",
            "val Loss: 0.1836 Acc: 0.9477\n",
            "\n",
            "Epoch 18/24\n",
            "----------\n"
          ],
          "name": "stdout"
        }
      ]
    },
    {
      "cell_type": "code",
      "metadata": {
        "id": "Ym8ycmknYeu2"
      },
      "source": [
        "visualize_model(model_conv)\n",
        "\n",
        "plt.ioff()\n",
        "plt.show()"
      ],
      "execution_count": null,
      "outputs": []
    },
    {
      "cell_type": "code",
      "metadata": {
        "id": "zwvjsFyXYpTt"
      },
      "source": [
        ""
      ],
      "execution_count": null,
      "outputs": []
    }
  ]
}